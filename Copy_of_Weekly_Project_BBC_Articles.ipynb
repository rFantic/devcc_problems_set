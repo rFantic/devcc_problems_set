{
  "nbformat": 4,
  "nbformat_minor": 0,
  "metadata": {
    "kernelspec": {
      "display_name": "Python 3",
      "language": "python",
      "name": "python3"
    },
    "language_info": {
      "codemirror_mode": {
        "name": "ipython",
        "version": 3
      },
      "file_extension": ".py",
      "mimetype": "text/x-python",
      "name": "python",
      "nbconvert_exporter": "python",
      "pygments_lexer": "ipython3",
      "version": "3.7.6"
    },
    "colab": {
      "name": "Copy of Weekly-Project-BBC Articles.ipynb",
      "provenance": [],
      "collapsed_sections": []
    }
  },
  "cells": [
    {
      "cell_type": "markdown",
      "metadata": {
        "id": "s8btHNo7H5Cf",
        "colab_type": "text"
      },
      "source": [
        "# Organize ML projects with Scikit-Learn"
      ]
    },
    {
      "cell_type": "markdown",
      "metadata": {
        "id": "8yK9CuWlH5Ch",
        "colab_type": "text"
      },
      "source": [
        "While Machine Learning is powerful, people often overestimate it: apply machine learning to your project, and all your problems will be solved. In reality, it's not this simple. To be effective, one needs to organize the work very well. In this notebook, we will walkthrough practical aspects of a ML project. To look at the big picture, let's start with a checklist below. It should work reasonably well for most ML projects, but make sure to adapt it to your needs:\n",
        "\n",
        "1. **Define the scope of work and objective**\n",
        "    * How is your solution be used?\n",
        "    * How should performance be measured? Are there any contraints?\n",
        "    * How would the problem be solved manually?\n",
        "    * List the available assumptions, and verify if possible.\n",
        "    \n",
        "    \n",
        "2. **Get the data**\n",
        "    * Document where you can get that data\n",
        "    * Store data in a workspace you can easily access\n",
        "    * Convert the data to a format you can easily manipulate\n",
        "    * Check the overview (size, type, sample, description, statistics)\n",
        "    * Data cleaning\n",
        "    \n",
        "    \n",
        "3. **EDA & Data transformation**\n",
        "    * Study each attribute and its characteristics (missing values, type of distribution, usefulness)\n",
        "    * Visualize the data\n",
        "    * Study the correlations between attributes\n",
        "    * Feature selection, Feature Engineering, Feature scaling\n",
        "    * Write functions for all data transformations\n",
        "    \n",
        "    \n",
        "4. **Train models**\n",
        "    * Automate as much as possible\n",
        "    * Train promising models quickly using standard parameters. Measure and compare their performance\n",
        "    * Analyze the errors the models make\n",
        "    * Shortlist the top three of five most promising models, preferring models that make different types of errors.\n",
        "\n",
        "\n",
        "5. **Fine-tunning**\n",
        "    * Treat data transformation choices as hyperparameters, expecially when you are not sure about them (e.g., replace missing values with zeros or with the median value)\n",
        "    * Unless there are very few hyperparameter value to explore, prefer random search over grid search.\n",
        "    * Try ensemble methods\n",
        "    * Test your final model on the test set to estimate the generalizaiton error. Don't tweak your model again, you would start overfitting the test set."
      ]
    },
    {
      "cell_type": "markdown",
      "metadata": {
        "id": "ofeuKevOH5Ch",
        "colab_type": "text"
      },
      "source": [
        "## Example: Articles categorization"
      ]
    },
    {
      "cell_type": "markdown",
      "metadata": {
        "id": "m2NSUqUEH5Ci",
        "colab_type": "text"
      },
      "source": [
        "### Objectives"
      ]
    },
    {
      "cell_type": "markdown",
      "metadata": {
        "id": "5GttlMG-H5Cj",
        "colab_type": "text"
      },
      "source": [
        "Build a model to determine the categories of articles. "
      ]
    },
    {
      "cell_type": "markdown",
      "metadata": {
        "id": "EwbjWOG1H5Ck",
        "colab_type": "text"
      },
      "source": [
        "### Get Data"
      ]
    },
    {
      "cell_type": "code",
      "metadata": {
        "id": "iWq7xex_H5Ck",
        "colab_type": "code",
        "colab": {
          "base_uri": "https://localhost:8080/",
          "height": 71
        },
        "outputId": "0795fa4e-a086-418e-c7ab-820dbe81b212"
      },
      "source": [
        "import numpy as np\n",
        "import pandas as pd\n",
        "import seaborn as sns\n",
        "import matplotlib.pyplot as plt\n",
        "%matplotlib inline\n",
        "\n",
        "import warnings\n",
        "warnings.filterwarnings('ignore')\n",
        "\n",
        "sns.set_style(\"whitegrid\")"
      ],
      "execution_count": 1,
      "outputs": [
        {
          "output_type": "stream",
          "text": [
            "/usr/local/lib/python3.6/dist-packages/statsmodels/tools/_testing.py:19: FutureWarning: pandas.util.testing is deprecated. Use the functions in the public API at pandas.testing instead.\n",
            "  import pandas.util.testing as tm\n"
          ],
          "name": "stderr"
        }
      ]
    },
    {
      "cell_type": "code",
      "metadata": {
        "id": "m9W7Hzt2H5Cp",
        "colab_type": "code",
        "colab": {}
      },
      "source": [
        "bbc = pd.read_csv('https://raw.githubusercontent.com/dhminh1024/practice_datasets/master/bbc-text.csv')"
      ],
      "execution_count": 2,
      "outputs": []
    },
    {
      "cell_type": "code",
      "metadata": {
        "id": "teb1QvD1H5Cs",
        "colab_type": "code",
        "colab": {
          "base_uri": "https://localhost:8080/",
          "height": 204
        },
        "outputId": "4d90d852-4fff-41ed-d04a-9c9743da9833"
      },
      "source": [
        "bbc.head(5)"
      ],
      "execution_count": 3,
      "outputs": [
        {
          "output_type": "execute_result",
          "data": {
            "text/html": [
              "<div>\n",
              "<style scoped>\n",
              "    .dataframe tbody tr th:only-of-type {\n",
              "        vertical-align: middle;\n",
              "    }\n",
              "\n",
              "    .dataframe tbody tr th {\n",
              "        vertical-align: top;\n",
              "    }\n",
              "\n",
              "    .dataframe thead th {\n",
              "        text-align: right;\n",
              "    }\n",
              "</style>\n",
              "<table border=\"1\" class=\"dataframe\">\n",
              "  <thead>\n",
              "    <tr style=\"text-align: right;\">\n",
              "      <th></th>\n",
              "      <th>category</th>\n",
              "      <th>text</th>\n",
              "    </tr>\n",
              "  </thead>\n",
              "  <tbody>\n",
              "    <tr>\n",
              "      <th>0</th>\n",
              "      <td>tech</td>\n",
              "      <td>tv future in the hands of viewers with home th...</td>\n",
              "    </tr>\n",
              "    <tr>\n",
              "      <th>1</th>\n",
              "      <td>business</td>\n",
              "      <td>worldcom boss  left books alone  former worldc...</td>\n",
              "    </tr>\n",
              "    <tr>\n",
              "      <th>2</th>\n",
              "      <td>sport</td>\n",
              "      <td>tigers wary of farrell  gamble  leicester say ...</td>\n",
              "    </tr>\n",
              "    <tr>\n",
              "      <th>3</th>\n",
              "      <td>sport</td>\n",
              "      <td>yeading face newcastle in fa cup premiership s...</td>\n",
              "    </tr>\n",
              "    <tr>\n",
              "      <th>4</th>\n",
              "      <td>entertainment</td>\n",
              "      <td>ocean s twelve raids box office ocean s twelve...</td>\n",
              "    </tr>\n",
              "  </tbody>\n",
              "</table>\n",
              "</div>"
            ],
            "text/plain": [
              "        category                                               text\n",
              "0           tech  tv future in the hands of viewers with home th...\n",
              "1       business  worldcom boss  left books alone  former worldc...\n",
              "2          sport  tigers wary of farrell  gamble  leicester say ...\n",
              "3          sport  yeading face newcastle in fa cup premiership s...\n",
              "4  entertainment  ocean s twelve raids box office ocean s twelve..."
            ]
          },
          "metadata": {
            "tags": []
          },
          "execution_count": 3
        }
      ]
    },
    {
      "cell_type": "code",
      "metadata": {
        "id": "KBW_Sg2RH5Cy",
        "colab_type": "code",
        "colab": {
          "base_uri": "https://localhost:8080/",
          "height": 170
        },
        "outputId": "3cb4dbca-ede1-4ea2-9c09-ed95ad1e31a7"
      },
      "source": [
        "bbc.info()"
      ],
      "execution_count": 4,
      "outputs": [
        {
          "output_type": "stream",
          "text": [
            "<class 'pandas.core.frame.DataFrame'>\n",
            "RangeIndex: 2225 entries, 0 to 2224\n",
            "Data columns (total 2 columns):\n",
            " #   Column    Non-Null Count  Dtype \n",
            "---  ------    --------------  ----- \n",
            " 0   category  2225 non-null   object\n",
            " 1   text      2225 non-null   object\n",
            "dtypes: object(2)\n",
            "memory usage: 34.9+ KB\n"
          ],
          "name": "stdout"
        }
      ]
    },
    {
      "cell_type": "code",
      "metadata": {
        "id": "dh3VRY5Zxmw6",
        "colab_type": "code",
        "colab": {
          "base_uri": "https://localhost:8080/",
          "height": 444
        },
        "outputId": "b3c85094-bad8-4dad-b686-bf6979a6ed22"
      },
      "source": [
        "print(f\"Shape : {bbc.shape}, \\n\\nColumns: {bbc.columns}, \\n\\nCategories: {bbc.category.unique()}\")\n",
        "\n",
        "# print sample data\n",
        "bbc.head().append(bbc.tail())"
      ],
      "execution_count": 5,
      "outputs": [
        {
          "output_type": "stream",
          "text": [
            "Shape : (2225, 2), \n",
            "\n",
            "Columns: Index(['category', 'text'], dtype='object'), \n",
            "\n",
            "Categories: ['tech' 'business' 'sport' 'entertainment' 'politics']\n"
          ],
          "name": "stdout"
        },
        {
          "output_type": "execute_result",
          "data": {
            "text/html": [
              "<div>\n",
              "<style scoped>\n",
              "    .dataframe tbody tr th:only-of-type {\n",
              "        vertical-align: middle;\n",
              "    }\n",
              "\n",
              "    .dataframe tbody tr th {\n",
              "        vertical-align: top;\n",
              "    }\n",
              "\n",
              "    .dataframe thead th {\n",
              "        text-align: right;\n",
              "    }\n",
              "</style>\n",
              "<table border=\"1\" class=\"dataframe\">\n",
              "  <thead>\n",
              "    <tr style=\"text-align: right;\">\n",
              "      <th></th>\n",
              "      <th>category</th>\n",
              "      <th>text</th>\n",
              "    </tr>\n",
              "  </thead>\n",
              "  <tbody>\n",
              "    <tr>\n",
              "      <th>0</th>\n",
              "      <td>tech</td>\n",
              "      <td>tv future in the hands of viewers with home th...</td>\n",
              "    </tr>\n",
              "    <tr>\n",
              "      <th>1</th>\n",
              "      <td>business</td>\n",
              "      <td>worldcom boss  left books alone  former worldc...</td>\n",
              "    </tr>\n",
              "    <tr>\n",
              "      <th>2</th>\n",
              "      <td>sport</td>\n",
              "      <td>tigers wary of farrell  gamble  leicester say ...</td>\n",
              "    </tr>\n",
              "    <tr>\n",
              "      <th>3</th>\n",
              "      <td>sport</td>\n",
              "      <td>yeading face newcastle in fa cup premiership s...</td>\n",
              "    </tr>\n",
              "    <tr>\n",
              "      <th>4</th>\n",
              "      <td>entertainment</td>\n",
              "      <td>ocean s twelve raids box office ocean s twelve...</td>\n",
              "    </tr>\n",
              "    <tr>\n",
              "      <th>2220</th>\n",
              "      <td>business</td>\n",
              "      <td>cars pull down us retail figures us retail sal...</td>\n",
              "    </tr>\n",
              "    <tr>\n",
              "      <th>2221</th>\n",
              "      <td>politics</td>\n",
              "      <td>kilroy unveils immigration policy ex-chatshow ...</td>\n",
              "    </tr>\n",
              "    <tr>\n",
              "      <th>2222</th>\n",
              "      <td>entertainment</td>\n",
              "      <td>rem announce new glasgow concert us band rem h...</td>\n",
              "    </tr>\n",
              "    <tr>\n",
              "      <th>2223</th>\n",
              "      <td>politics</td>\n",
              "      <td>how political squabbles snowball it s become c...</td>\n",
              "    </tr>\n",
              "    <tr>\n",
              "      <th>2224</th>\n",
              "      <td>sport</td>\n",
              "      <td>souness delight at euro progress boss graeme s...</td>\n",
              "    </tr>\n",
              "  </tbody>\n",
              "</table>\n",
              "</div>"
            ],
            "text/plain": [
              "           category                                               text\n",
              "0              tech  tv future in the hands of viewers with home th...\n",
              "1          business  worldcom boss  left books alone  former worldc...\n",
              "2             sport  tigers wary of farrell  gamble  leicester say ...\n",
              "3             sport  yeading face newcastle in fa cup premiership s...\n",
              "4     entertainment  ocean s twelve raids box office ocean s twelve...\n",
              "2220       business  cars pull down us retail figures us retail sal...\n",
              "2221       politics  kilroy unveils immigration policy ex-chatshow ...\n",
              "2222  entertainment  rem announce new glasgow concert us band rem h...\n",
              "2223       politics  how political squabbles snowball it s become c...\n",
              "2224          sport  souness delight at euro progress boss graeme s..."
            ]
          },
          "metadata": {
            "tags": []
          },
          "execution_count": 5
        }
      ]
    },
    {
      "cell_type": "code",
      "metadata": {
        "id": "-OtEFAbicoPr",
        "colab_type": "code",
        "colab": {
          "base_uri": "https://localhost:8080/",
          "height": 388
        },
        "outputId": "8bf76efd-1ee0-49d0-c910-52882969c9cd"
      },
      "source": [
        "# Plot category data\n",
        "plt.figure(figsize=(10,6))\n",
        "sns.countplot(bbc.category)\n",
        "plt.show()"
      ],
      "execution_count": 6,
      "outputs": [
        {
          "output_type": "display_data",
          "data": {
            "image/png": "[encoded data removed]",
            "text/plain": [
              "<Figure size 720x432 with 1 Axes>"
            ]
          },
          "metadata": {
            "tags": [],
            "needs_background": "light"
          }
        }
      ]
    },
    {
      "cell_type": "markdown",
      "metadata": {
        "id": "FUbJlTWKd3Bv",
        "colab_type": "text"
      },
      "source": [
        "### EDA & Data transformation"
      ]
    },
    {
      "cell_type": "code",
      "metadata": {
        "id": "-w0aabb1c5FL",
        "colab_type": "code",
        "colab": {
          "base_uri": "https://localhost:8080/",
          "height": 119
        },
        "outputId": "157bbb38-5c02-4b64-dfc5-9e5dd5999a2a"
      },
      "source": [
        "import numpy as np # linear algebra\n",
        "import pandas as pd # data processing, CSV file I/O (e.g. pd.read_csv)\n",
        "import matplotlib.pyplot as plt\n",
        "import seaborn as sns\n",
        "import warnings\n",
        "warnings.filterwarnings('ignore')\n",
        "\n",
        "\n",
        "# NLTK modules\n",
        "import nltk\n",
        "nltk.download('punkt')\n",
        "nltk.download('stopwords')\n",
        "nltk.download('wordnet')\n",
        "\n",
        "import re\n",
        "\n",
        "from gensim.models import Word2Vec # Word2Vec module\n",
        "\n",
        "from sklearn.model_selection import GridSearchCV, train_test_split\n",
        "from sklearn.feature_extraction.text import TfidfVectorizer\n",
        "from sklearn.preprocessing import LabelEncoder\n",
        "from sklearn.pipeline import Pipeline\n",
        "from sklearn.naive_bayes import GaussianNB, MultinomialNB\n",
        "from sklearn.svm import SVC\n",
        "from sklearn.tree import DecisionTreeClassifier\n",
        "from sklearn.neural_network import MLPClassifier\n",
        "from sklearn.linear_model import SGDClassifier\n",
        "from sklearn.ensemble import GradientBoostingClassifier\n",
        "from sklearn.metrics import precision_score, recall_score, f1_score, accuracy_score"
      ],
      "execution_count": 7,
      "outputs": [
        {
          "output_type": "stream",
          "text": [
            "[nltk_data] Downloading package punkt to /root/nltk_data...\n",
            "[nltk_data]   Package punkt is already up-to-date!\n",
            "[nltk_data] Downloading package stopwords to /root/nltk_data...\n",
            "[nltk_data]   Package stopwords is already up-to-date!\n",
            "[nltk_data] Downloading package wordnet to /root/nltk_data...\n",
            "[nltk_data]   Package wordnet is already up-to-date!\n"
          ],
          "name": "stdout"
        }
      ]
    },
    {
      "cell_type": "code",
      "metadata": {
        "id": "P5_HBdYScpIj",
        "colab_type": "code",
        "colab": {}
      },
      "source": [
        "class DataPreparation:\n",
        "    def __init__(self, data, column='text'):\n",
        "        self.df = data\n",
        "        self.column = column\n",
        "    \n",
        "    def preprocess(self):\n",
        "        self.tokenize()\n",
        "        self.remove_stopwords()\n",
        "        self.remove_non_words()\n",
        "        self.lemmatize_words()\n",
        "        return self.df\n",
        "    \n",
        "    def tokenize(self):\n",
        "        self.df['clean_text'] = self.df[self.column].apply(nltk.word_tokenize)\n",
        "    \n",
        "    def remove_stopwords(self):\n",
        "        stopword_set = set(nltk.corpus.stopwords.words('english'))\n",
        "        \n",
        "        rem_stopword = lambda words: [item for item in words if item not in stopword_set]\n",
        "        \n",
        "        self.df['clean_text'] = self.df['clean_text'].apply(rem_stopword)\n",
        "    \n",
        "    def remove_non_words(self):\n",
        "        \"\"\"\n",
        "            Remove all non alpha characters from the text data\n",
        "        \"\"\"\n",
        "        regpatrn = '[a-z]+'\n",
        "        rem_special_chars = lambda x: [item for item in x if re.match(regpatrn, item)]\n",
        "        self.df['clean_text'] = self.df['clean_text'].apply(rem_special_chars)\n",
        "        \n",
        "    def lemmatize_words(self):\n",
        "        lemma = nltk.stem.wordnet.WordNetLemmatizer()\n",
        "        on_word_lemma = lambda x: [lemma.lemmatize(w, pos='v') for w in x]\n",
        "        self.df['clean_text'] = self.df['clean_text'].apply(on_word_lemma)"
      ],
      "execution_count": 8,
      "outputs": []
    },
    {
      "cell_type": "code",
      "metadata": {
        "id": "E0N9ULCYcuj0",
        "colab_type": "code",
        "colab": {
          "base_uri": "https://localhost:8080/",
          "height": 221
        },
        "outputId": "b4826300-c7ee-4624-8025-41a196d54cf7"
      },
      "source": [
        "data_prep = DataPreparation(bbc)\n",
        "cleanse_df = data_prep.preprocess()\n",
        "print(cleanse_df['clean_text'])"
      ],
      "execution_count": 9,
      "outputs": [
        {
          "output_type": "stream",
          "text": [
            "0       [tv, future, hand, viewers, home, theatre, sys...\n",
            "1       [worldcom, boss, leave, book, alone, former, w...\n",
            "2       [tigers, wary, farrell, gamble, leicester, say...\n",
            "3       [yeading, face, newcastle, fa, cup, premiershi...\n",
            "4       [ocean, twelve, raid, box, office, ocean, twel...\n",
            "                              ...                        \n",
            "2220    [cars, pull, us, retail, figure, us, retail, s...\n",
            "2221    [kilroy, unveil, immigration, policy, ex-chats...\n",
            "2222    [rem, announce, new, glasgow, concert, us, ban...\n",
            "2223    [political, squabble, snowball, become, common...\n",
            "2224    [souness, delight, euro, progress, boss, graem...\n",
            "Name: clean_text, Length: 2225, dtype: object\n"
          ],
          "name": "stdout"
        }
      ]
    },
    {
      "cell_type": "code",
      "metadata": {
        "id": "1qNojU5jc-y_",
        "colab_type": "code",
        "colab": {}
      },
      "source": [
        "vec_model = Word2Vec(cleanse_df['clean_text'])\n",
        "\n",
        "w2v = dict(zip(vec_model.wv.index2word, vec_model.wv.syn0))"
      ],
      "execution_count": 10,
      "outputs": []
    },
    {
      "cell_type": "markdown",
      "metadata": {
        "id": "UJTRXvqEeI17",
        "colab_type": "text"
      },
      "source": [
        "### Train models"
      ]
    },
    {
      "cell_type": "code",
      "metadata": {
        "id": "9R1dhBHidDzS",
        "colab_type": "code",
        "colab": {}
      },
      "source": [
        "class Vectorizer(object):\n",
        "    def __init__(self, vec):\n",
        "        self.vec = vec\n",
        "        self.dim = len(vec.values())\n",
        "        \n",
        "    def fit(self, X, y):\n",
        "        return self\n",
        "    \n",
        "    def transform(self, X):\n",
        "        return np.array([np.mean([self.vec[w] for w in words if w in self.vec] or [np.zeros(self.dim)], axis=0) for words in X])\n",
        "    \n",
        "class Classifier(object):\n",
        "    def __init__(self, model, param):\n",
        "        self.model = model\n",
        "        self.param = param\n",
        "        self.gsearch = GridSearchCV(self.model, self.param, cv=5, error_score=0, refit=True)\n",
        "        \n",
        "    def fit(self, X, y):\n",
        "        return self.gsearch.fit(X, y)\n",
        "    \n",
        "    def predict(self, X):\n",
        "        return self.gsearch.predict(X)\n",
        "\n",
        "clf_models = {\n",
        "    'Naive Bayes': GaussianNB(),\n",
        "    'SVC': SVC(),\n",
        "    'Decision Tree': DecisionTreeClassifier(),\n",
        "    'SGD Classifier': SGDClassifier(),\n",
        "}\n",
        "\n",
        "clf_params = {\n",
        "    'Naive Bayes': {},\n",
        "    'SVC' : {'kernel': ['linear', 'rbf']},\n",
        "    'Decision Tree': {'min_samples_split': [2, 5]},\n",
        "    'SGD Classifier': { 'penalty': ['l2', 'l1', 'elasticnet'] },\n",
        "}"
      ],
      "execution_count": 11,
      "outputs": []
    },
    {
      "cell_type": "code",
      "metadata": {
        "id": "ilhfjo0BdETV",
        "colab_type": "code",
        "colab": {}
      },
      "source": [
        "X_train, X_valid, y_train, y_valid = \\\n",
        "    train_test_split(cleanse_df['clean_text'],\\\n",
        "                     cleanse_df['category'], test_size=0.2, shuffle=True)"
      ],
      "execution_count": 12,
      "outputs": []
    },
    {
      "cell_type": "code",
      "metadata": {
        "id": "a3R24G3TdF4s",
        "colab_type": "code",
        "colab": {
          "base_uri": "https://localhost:8080/",
          "height": 221
        },
        "outputId": "4750b9a2-d814-49d8-a641-c0a854a3a0d5"
      },
      "source": [
        "# Iterate through the model names\n",
        "for key in clf_models.keys():\n",
        "    clf = Pipeline([('Word2Vec', Vectorizer(w2v)), ('Classifier', Classifier(clf_models[key], clf_params[key]))])\n",
        "    clf.fit(X_train, y_train)\n",
        "    y_preds = clf.predict(X_valid)\n",
        "    print(key, \":\")\n",
        "    print(\"Accuracy: %1.3f \\tPrecision: %1.3f \\tRecall: %1.3f \\tF1-Score: %1.3f\\n\" % (accuracy_score(y_valid, y_preds),\n",
        "                                                                                     precision_score(y_valid, y_preds, average='macro'),\n",
        "                                                                                     recall_score(y_valid, y_preds, average='macro'),\n",
        "                                                                                     f1_score(y_valid, y_preds, average='macro')))"
      ],
      "execution_count": 13,
      "outputs": [
        {
          "output_type": "stream",
          "text": [
            "Naive Bayes :\n",
            "Accuracy: 0.926 \tPrecision: 0.922 \tRecall: 0.923 \tF1-Score: 0.922\n",
            "\n",
            "SVC :\n",
            "Accuracy: 0.930 \tPrecision: 0.927 \tRecall: 0.927 \tF1-Score: 0.927\n",
            "\n",
            "Decision Tree :\n",
            "Accuracy: 0.908 \tPrecision: 0.905 \tRecall: 0.907 \tF1-Score: 0.906\n",
            "\n",
            "SGD Classifier :\n",
            "Accuracy: 0.926 \tPrecision: 0.928 \tRecall: 0.923 \tF1-Score: 0.925\n",
            "\n"
          ],
          "name": "stdout"
        }
      ]
    },
    {
      "cell_type": "markdown",
      "metadata": {
        "id": "HcZ3mfMzeP65",
        "colab_type": "text"
      },
      "source": [
        "### Fine-tunning"
      ]
    },
    {
      "cell_type": "code",
      "metadata": {
        "id": "716rpVtJdO1-",
        "colab_type": "code",
        "colab": {}
      },
      "source": [
        "def vectorize(vector, X_train, X_test):\n",
        "    vector_fit = vector.fit(X_train)\n",
        "    X_train_vec = vector_fit.transform(X_train)\n",
        "    X_test_vec = vector_fit.transform(X_test)\n",
        "    print(\"Vectorization is completed.\")\n",
        "    return X_train_vec, X_test_vec\n",
        "\n",
        "def label_encoding(y_train):\n",
        "    lbl_enc = LabelEncoder()\n",
        "    y_train_enc = lbl_enc.fit_transform(y_train)\n",
        "    labels = lbl_enc.classes_\n",
        "    return y_train_enc, labels\n",
        "\n",
        "def algorithm_stack(models, params, X_train, X_test, y_train, y_test):\n",
        "    if not set(models.keys()).issubset(set(params.keys())):\n",
        "        raise ValueError('Keys do not match')\n",
        "    for key in models.keys():\n",
        "        model = models[key]\n",
        "        param = params[key]\n",
        "        gs = GridSearchCV(model, param, cv=5, error_score=0, refit=True)\n",
        "        gs.fit(X_train, y_train)\n",
        "        y_pred = gs.predict(X_test)\n",
        "        print(key, \":\")\n",
        "        print(\"Accuracy: %1.3f \\tPrecision: %1.3f \\tRecall: %1.3f \\tF1-Score: %1.3f\\n\" \\\n",
        "              % (accuracy_score(y_test, y_pred),\n",
        "                 precision_score(y_test, y_pred, average='macro'),\n",
        "                 recall_score(y_test, y_pred, average='macro'),\n",
        "                 f1_score(y_test, y_pred, average='macro')))\n",
        "    return"
      ],
      "execution_count": 14,
      "outputs": []
    },
    {
      "cell_type": "code",
      "metadata": {
        "id": "RKoEBOF8dbJn",
        "colab_type": "code",
        "colab": {
          "base_uri": "https://localhost:8080/",
          "height": 51
        },
        "outputId": "6c9c84a2-ab11-4160-fc37-b146f2747c63"
      },
      "source": [
        "# Encode the class labels\n",
        "y_enc_train, labels = label_encoding(bbc['category'])\n",
        "\n",
        "# Split from the loaded dataset\n",
        "X_train, X_valid, y_train, y_test = train_test_split(bbc['text'], y_enc_train, test_size=0.2, shuffle=True)\n",
        "\n",
        "# TFIDFVectorizer \n",
        "X_train_vec, X_valid_vec = vectorize(TfidfVectorizer(), X_train, X_valid)\n",
        "\n",
        "print(X_train_vec.shape, X_valid_vec.shape)\n",
        "\n",
        "clf_models = {\n",
        "    'Naive Bayes': MultinomialNB(),\n",
        "    'SVC': SVC(),\n",
        "    'Decision Tree': DecisionTreeClassifier(),\n",
        "    'SGD Classifier': SGDClassifier(),\n",
        "}\n",
        "\n",
        "\n",
        "# Modified parameters\n",
        "clf_params = {\n",
        "    'Naive Bayes': {'alpha': [0.5, 1], 'fit_prior': [True, False] },\n",
        "    'SVC' : {'kernel': ['linear', 'rbf']},\n",
        "    'Decision Tree': {'min_samples_split': [1, 2, 5]},\n",
        "    'SGD Classifier': { 'penalty': ['l2', 'l1', 'elasticnet'] },\n",
        "}"
      ],
      "execution_count": 15,
      "outputs": [
        {
          "output_type": "stream",
          "text": [
            "Vectorization is completed.\n",
            "(1780, 26780) (445, 26780)\n"
          ],
          "name": "stdout"
        }
      ]
    },
    {
      "cell_type": "code",
      "metadata": {
        "id": "h8c21IPhdeG7",
        "colab_type": "code",
        "colab": {
          "base_uri": "https://localhost:8080/",
          "height": 221
        },
        "outputId": "1b59ac86-0d99-4a2a-e39d-e66312b126fd"
      },
      "source": [
        "algorithm_stack(clf_models, clf_params, X_train_vec, X_valid_vec, y_train, y_test)"
      ],
      "execution_count": 16,
      "outputs": [
        {
          "output_type": "stream",
          "text": [
            "Naive Bayes :\n",
            "Accuracy: 0.957 \tPrecision: 0.955 \tRecall: 0.957 \tF1-Score: 0.955\n",
            "\n",
            "SVC :\n",
            "Accuracy: 0.978 \tPrecision: 0.976 \tRecall: 0.978 \tF1-Score: 0.977\n",
            "\n",
            "Decision Tree :\n",
            "Accuracy: 0.791 \tPrecision: 0.789 \tRecall: 0.794 \tF1-Score: 0.790\n",
            "\n",
            "SGD Classifier :\n",
            "Accuracy: 0.980 \tPrecision: 0.979 \tRecall: 0.981 \tF1-Score: 0.980\n",
            "\n"
          ],
          "name": "stdout"
        }
      ]
    }
  ]
}